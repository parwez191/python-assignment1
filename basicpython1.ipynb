{
  "nbformat": 4,
  "nbformat_minor": 0,
  "metadata": {
    "colab": {
      "provenance": []
    },
    "kernelspec": {
      "name": "python3",
      "display_name": "Python 3"
    },
    "language_info": {
      "name": "python"
    }
  },
  "cells": [
    {
      "cell_type": "markdown",
      "source": [
        "1. What is Python, and why is it popular\n",
        "Diffinition:- Python is a high-level, interpreted programming language known for its readability and simplicity. It's popular for many reasons:\n",
        "\n",
        "-Easy to learn\n",
        "-Versatile\n",
        "-Extensive libraries\n",
        "-Platform independent"
      ],
      "metadata": {
        "id": "8AJWUfFCGoa3"
      }
    },
    {
      "cell_type": "code",
      "execution_count": null,
      "metadata": {
        "id": "yOW8ktOl8Nps"
      },
      "outputs": [],
      "source": []
    },
    {
      "cell_type": "markdown",
      "source": [
        "2.What is an interpreter in Python\n",
        "diffinition:- In Python, an interpreter is a program that directly executes code. Unlike compiled languages like C++, where the entire code is translated into machine code before execution, an interpreter reads and executes the code line by line.\n",
        "3. What are pre-defined keywords in Python\n",
        "\n",
        "Definition: Pre-defined keywords are reserved words in Python that have a special meaning in the language and cannot be used as variable names.\n",
        "\n",
        "Example: if, else, for, while, True, False, and, or, def\n",
        "\n",
        "Python has 35 keywords (Python 3.12).\n",
        "4. Can keywords be used as variable names\n",
        "\n",
        "ans: No, because they are reserved by Python.\n",
        "5. What is mutability in Python?\n",
        "\n",
        "ans: Mutability means whether an object’s value can be changed after creation.\n",
        "\n",
        "Mutable = can change (e.g., list, dict, set)\n",
        "\n",
        "Immutable = cannot change (e.g., tuple, string, int)\n",
        "6. Why lists are mutable, but tuples are immutable?\n",
        "\n",
        "ans:- Lists allow modification, addition, and removal of elements.\n",
        "\n",
        "Tuples are fixed collections, designed for faster access and data safety.\n",
        "\n",
        "7. Difference between == and is operators\n",
        "\n",
        "ans:- == checks if two objects have the same value.\n",
        "\n",
        "is checks if two objects are the same instance in memory.\n",
        "\n",
        "8. Logical operators in Python\n",
        "ans:-\n",
        "and: True if both conditions are True.\n",
        "\n",
        "or: True if at least one condition is True.\n",
        "\n",
        "not: Reverses the Boolean value.\n",
        "\n",
        "9. Type casting in Python\n",
        "\n",
        "ans:- Converting a value from one data type to another.\n",
        "\n",
        "10. Difference between implicit and explicit type casting\n",
        "\n",
        "ans:- Implicit: Automatic conversion done by Python.\n",
        "\n",
        "Explicit: Manual conversion done by the programmer using type conversion functions.\n",
        "\n",
        "11. Purpose of conditional statements in Python\n",
        "\n",
        "ans:- To make decisions in code by executing specific blocks only when certain conditions are met.\n",
        "\n",
        "12. How elif works\n",
        "\n",
        "ans:- Stands for “else if”.\n",
        "\n",
        "Executes only if the preceding if condition is False but its own condition is True.\n",
        "\n",
        "13. Difference between for and while loops\n",
        "\n",
        "ans:- for loop: Used when the number of iterations is known.\n",
        "\n",
        "while loop: Used when the number of iterations is unknown and depends on a condition.\n",
        "\n",
        "14. Scenario where a while loop is more suitable\n",
        "\n",
        "ans:- When repeatedly performing an action until a certain condition is met, such as waiting for user input or reading a file until the end."
      ],
      "metadata": {
        "id": "6DxTRGyiFJac"
      }
    },
    {
      "cell_type": "markdown",
      "source": [],
      "metadata": {
        "id": "aEJjRnOMIPMq"
      }
    },
    {
      "cell_type": "markdown",
      "source": [],
      "metadata": {
        "id": "2NGM3jBXHVSF"
      }
    }
  ]
}